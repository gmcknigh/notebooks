{
 "cells": [
  {
   "cell_type": "markdown",
   "id": "8db6e9ca",
   "metadata": {},
   "source": [
    "<body style=\"text-algin:center\"><h2><a href=\"https://gmcknigh.github.io\" target=\"_blank\" style=\"color: #23123d\">Portfolio Home</a></h2></body>"
   ]
  },
  {
   "cell_type": "markdown",
   "id": "c00e16aa",
   "metadata": {},
   "source": [
    "<a class=\"anchor\" id=\"header\"></a>\n",
    "<div style=\"color:white; background-color: #23123d; border: 3px solid black; text-align:center; padding-top: 2px; padding-bottom: 4px;\">\n",
    "    <h1>Data Science Notebooks | Python</h1>\n",
    "    <span style=\"text-align:center;\">Click the links below to view contents.</span>\n",
    "</div>"
   ]
  },
  {
   "cell_type": "markdown",
   "id": "349f73e7",
   "metadata": {},
   "source": [
    "<section style=\"color:black; border: 3px solid black; padding-top: 2px; padding-bottom: 2px; padding-left:2px; width:fit-text\">\n",
    "    <h2 style=\"text-align:left; padding-left:15px\">Table of Contents</h2>\n",
    "    <ol type=\"1\" style=\"text-align:left\">\n",
    "        <li><a style=\"color:black\" href=\"https://gmcknigh.github.io/notebooks/lab?path=projects%2Fheart_failure_knn.ipynb\" target=\"_self\">Heart Failure Mortality Prediction using KNN</a>\n",
    "        </li>\n",
    "        <li><a style=\"color:black\" href=\"https://gmcknigh.github.io/notebooks/lab?path=projects%2FRobinhood+Portfolio+Insights%2Fetf_portfolio_insights.ipynb\" target=\"_self\">Robinhood Portfolio Insights</a>\n",
    "        </li>\n",
    "        <li><a style=\"color:black\" href=\"https://gmcknigh.github.io/notebooks/lab?path=projects%2FTitanic_Project.ipynb\" target=\"_self\">Titanic Death Predictions</a>\n",
    "        </li>\n",
    "    </ol>\n",
    "</section>  "
   ]
  }
 ],
 "metadata": {
  "kernelspec": {
   "display_name": "JupyterNotebook_env",
   "language": "python",
   "name": "jupyternotebook_env"
  },
  "language_info": {
   "codemirror_mode": {
    "name": "ipython",
    "version": 3
   },
   "file_extension": ".py",
   "mimetype": "text/x-python",
   "name": "python",
   "nbconvert_exporter": "python",
   "pygments_lexer": "ipython3",
   "version": "3.9.7"
  }
 },
 "nbformat": 4,
 "nbformat_minor": 5
}
