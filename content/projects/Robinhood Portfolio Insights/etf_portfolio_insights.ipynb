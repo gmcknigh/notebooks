{
 "cells": [
  {
   "cell_type": "markdown",
   "id": "05e4523c",
   "metadata": {},
   "source": [
    "# ETF Sector Breakdowns"
   ]
  },
  {
   "cell_type": "markdown",
   "id": "d0c8e070",
   "metadata": {},
   "source": [
    "This project provides a solution to the lack of insight provided to users invested primarily in Exchange-Traded Funds (ETFs) with Robinhood. Robinhood has a feature that allows users to visualize their portfolio by sector breakdown, however, this breakdown is not able to be seen if the portfolio is solely invested in ETFs. \n",
    "\n",
    "Traditionally, a portfolio breakdown would appear similarly to the following example structure: Technology: 34%, Healthcare: 45%, Financials: 15%, Telecommunications: 6%, providing a high-level insight for the user to get a quick understanding of the sectors that makeup their portfolio. For an account that only holds ETFs, the breakdown shows: ETF: 100% and provides no further insight into the sector distributions.\n",
    "\n",
    "## Workflow\n",
    "* [1: Retrieving Robinhood Portfolio](#section1)\n",
    "* [2: Webscraping ETF Sector Breakdown](#section2)\n",
    "    * [2.1: Retrieving ETF Sector Breakdowns](#section2.1)\n",
    "    * [2.2: Retrieving ETF Stock Holdings](#section2.2)\n",
    "    * [2.3: Finding the corresponding sector for each stock](#section2.3)\n",
    "* [3: Connecting to Google Sheets API](#section3)"
   ]
  },
  {
   "cell_type": "code",
   "execution_count": 1,
   "id": "b96982d7",
   "metadata": {},
   "outputs": [],
   "source": [
    "import pandas as pd\n",
    "from bs4 import BeautifulSoup\n",
    "import requests\n",
    "import matplotlib.pyplot as plt\n",
    "import numpy as np\n",
    "import cv2\n",
    "from datetime import datetime\n",
    "import time\n",
    "from tabulate import tabulate\n",
    "import robin_stocks.robinhood as r\n",
    "import investpy\n",
    "import gspread as gs\n",
    "from df2gspread import df2gspread as d2g\n",
    "from oauth2client.service_account import ServiceAccountCredentials\n",
    "from datetime import date\n",
    "from dateutil.relativedelta import relativedelta"
   ]
  },
  {
   "cell_type": "code",
   "execution_count": 2,
   "id": "34de3ce8",
   "metadata": {},
   "outputs": [],
   "source": [
    "pd.set_option(\"display.precision\", 8)"
   ]
  },
  {
   "cell_type": "code",
   "execution_count": 3,
   "id": "e6c23f57",
   "metadata": {},
   "outputs": [],
   "source": [
    "starttime = datetime.now()"
   ]
  },
  {
   "cell_type": "markdown",
   "id": "56503a1a",
   "metadata": {},
   "source": [
    "<a class=\"anchor\" id=\"section1\"></a>\n",
    "\n",
    "# Retrieving Robinhood Portfolio"
   ]
  },
  {
   "cell_type": "markdown",
   "id": "e727a03f",
   "metadata": {},
   "source": [
    "The below code retrieves login information from an encrypted file and then uses robin_stocks to access the Robinhood portfolio. As a security measure, if the login information is found to be invalid, a webcam photo is taken and the picture is saved locally with a file name composed of the timestamp of the invalid login and the file path attempted to be accessed."
   ]
  },
  {
   "cell_type": "code",
   "execution_count": 4,
   "id": "b8ed7893",
   "metadata": {},
   "outputs": [
    {
     "name": "stdout",
     "output_type": "stream",
     "text": [
      "Enter login file path: login.txt\n"
     ]
    }
   ],
   "source": [
    "path = input(\"Enter login file path: \")\n",
    "def capture(file):\n",
    "    oldtime = time.time()\n",
    "    cap = cv2.VideoCapture(0)\n",
    "    ct = datetime.now()\n",
    "    file = 'Captures/' + str(ct.timestamp()) + '_' + file + '_.jpg'\n",
    "    while oldtime + 4 >= time.time():\n",
    "        ret, frame = cap.read()\n",
    "        rgb = cv2.cvtColor(frame, cv2.COLOR_BGR2BGRA)\n",
    "    out = cv2.imwrite(file, frame)\n",
    "    cap.release()\n",
    "    cv2.destroyAllWindows()"
   ]
  },
  {
   "cell_type": "code",
   "execution_count": 5,
   "id": "1995ad23",
   "metadata": {},
   "outputs": [],
   "source": [
    "try:\n",
    "    with open(path) as f:\n",
    "        lines = f.readlines()\n",
    "    username = lines[0][:-1]\n",
    "    password = lines[1][:-1]\n",
    "    spread_key = lines[2][:-1]\n",
    "    gdapi = lines[3][:-1]\n",
    "except:\n",
    "    capture(path)"
   ]
  },
  {
   "cell_type": "code",
   "execution_count": 6,
   "id": "62279090",
   "metadata": {},
   "outputs": [],
   "source": [
    "r.login(username, password)\n",
    "portfolio = r.build_holdings()"
   ]
  },
  {
   "cell_type": "code",
   "execution_count": 7,
   "id": "5e4d02c6",
   "metadata": {},
   "outputs": [
    {
     "data": {
      "text/html": [
       "<div>\n",
       "<style scoped>\n",
       "    .dataframe tbody tr th:only-of-type {\n",
       "        vertical-align: middle;\n",
       "    }\n",
       "\n",
       "    .dataframe tbody tr th {\n",
       "        vertical-align: top;\n",
       "    }\n",
       "\n",
       "    .dataframe thead th {\n",
       "        text-align: right;\n",
       "    }\n",
       "</style>\n",
       "<table border=\"1\" class=\"dataframe\">\n",
       "  <thead>\n",
       "    <tr style=\"text-align: right;\">\n",
       "      <th></th>\n",
       "      <th>ticker</th>\n",
       "      <th>price</th>\n",
       "      <th>quantity</th>\n",
       "      <th>average_buy_price</th>\n",
       "      <th>equity</th>\n",
       "      <th>percent_change</th>\n",
       "      <th>intraday_percent_change</th>\n",
       "      <th>equity_change</th>\n",
       "      <th>type</th>\n",
       "      <th>name</th>\n",
       "      <th>id</th>\n",
       "      <th>pe_ratio</th>\n",
       "      <th>percentage</th>\n",
       "    </tr>\n",
       "  </thead>\n",
       "  <tbody>\n",
       "    <tr>\n",
       "      <th>0</th>\n",
       "      <td>QQQ</td>\n",
       "      <td>321.660000</td>\n",
       "      <td>0.29339200</td>\n",
       "      <td>340.8409</td>\n",
       "      <td>94.37</td>\n",
       "      <td>-5.63</td>\n",
       "      <td>0.00</td>\n",
       "      <td>-5.627523</td>\n",
       "      <td>etp</td>\n",
       "      <td>Invesco QQQ</td>\n",
       "      <td>1790dd4f-a7ff-409e-90de-cad5efafde10</td>\n",
       "      <td>26.211685</td>\n",
       "      <td>13.38</td>\n",
       "    </tr>\n",
       "    <tr>\n",
       "      <th>1</th>\n",
       "      <td>VTWO</td>\n",
       "      <td>77.820000</td>\n",
       "      <td>1.30616500</td>\n",
       "      <td>76.5600</td>\n",
       "      <td>101.65</td>\n",
       "      <td>1.65</td>\n",
       "      <td>0.00</td>\n",
       "      <td>1.645768</td>\n",
       "      <td>etp</td>\n",
       "      <td>Vanguard Russell 2000 Index Fund</td>\n",
       "      <td>372bc2fa-2916-4a5b-acbd-40b135828931</td>\n",
       "      <td>41.240560</td>\n",
       "      <td>14.41</td>\n",
       "    </tr>\n",
       "    <tr>\n",
       "      <th>2</th>\n",
       "      <td>SPY</td>\n",
       "      <td>414.120000</td>\n",
       "      <td>0.22515400</td>\n",
       "      <td>444.1405</td>\n",
       "      <td>93.24</td>\n",
       "      <td>-6.76</td>\n",
       "      <td>0.00</td>\n",
       "      <td>-6.759236</td>\n",
       "      <td>etp</td>\n",
       "      <td>SPDR S&amp;P 500 ETF</td>\n",
       "      <td>8f92e76f-1e0e-4478-8580-16a6ffcfaef5</td>\n",
       "      <td>20.713720</td>\n",
       "      <td>13.22</td>\n",
       "    </tr>\n",
       "    <tr>\n",
       "      <th>3</th>\n",
       "      <td>SOXX</td>\n",
       "      <td>413.600000</td>\n",
       "      <td>0.21239700</td>\n",
       "      <td>470.8164</td>\n",
       "      <td>87.85</td>\n",
       "      <td>-12.15</td>\n",
       "      <td>0.00</td>\n",
       "      <td>-12.152592</td>\n",
       "      <td>etp</td>\n",
       "      <td>iShares Semiconductor ETF</td>\n",
       "      <td>4b298506-cbb8-492e-807b-23bb4787378a</td>\n",
       "      <td>20.205214</td>\n",
       "      <td>12.46</td>\n",
       "    </tr>\n",
       "    <tr>\n",
       "      <th>4</th>\n",
       "      <td>XBI</td>\n",
       "      <td>93.230400</td>\n",
       "      <td>1.20033600</td>\n",
       "      <td>83.3100</td>\n",
       "      <td>111.91</td>\n",
       "      <td>11.91</td>\n",
       "      <td>0.00</td>\n",
       "      <td>11.907813</td>\n",
       "      <td>etp</td>\n",
       "      <td>SPDR S&amp;P Biotech ETF</td>\n",
       "      <td>2d764d73-9ad8-4cf5-9a2b-443d58d9a2b5</td>\n",
       "      <td>-6.773857</td>\n",
       "      <td>15.87</td>\n",
       "    </tr>\n",
       "  </tbody>\n",
       "</table>\n",
       "</div>"
      ],
      "text/plain": [
       "  ticker       price    quantity average_buy_price  equity percent_change  \\\n",
       "0    QQQ  321.660000  0.29339200          340.8409   94.37          -5.63   \n",
       "1   VTWO   77.820000  1.30616500           76.5600  101.65           1.65   \n",
       "2    SPY  414.120000  0.22515400          444.1405   93.24          -6.76   \n",
       "3   SOXX  413.600000  0.21239700          470.8164   87.85         -12.15   \n",
       "4    XBI   93.230400  1.20033600           83.3100  111.91          11.91   \n",
       "\n",
       "  intraday_percent_change equity_change type  \\\n",
       "0                    0.00     -5.627523  etp   \n",
       "1                    0.00      1.645768  etp   \n",
       "2                    0.00     -6.759236  etp   \n",
       "3                    0.00    -12.152592  etp   \n",
       "4                    0.00     11.907813  etp   \n",
       "\n",
       "                               name                                    id  \\\n",
       "0                       Invesco QQQ  1790dd4f-a7ff-409e-90de-cad5efafde10   \n",
       "1  Vanguard Russell 2000 Index Fund  372bc2fa-2916-4a5b-acbd-40b135828931   \n",
       "2                  SPDR S&P 500 ETF  8f92e76f-1e0e-4478-8580-16a6ffcfaef5   \n",
       "3         iShares Semiconductor ETF  4b298506-cbb8-492e-807b-23bb4787378a   \n",
       "4              SPDR S&P Biotech ETF  2d764d73-9ad8-4cf5-9a2b-443d58d9a2b5   \n",
       "\n",
       "    pe_ratio percentage  \n",
       "0  26.211685      13.38  \n",
       "1  41.240560      14.41  \n",
       "2  20.713720      13.22  \n",
       "3  20.205214      12.46  \n",
       "4  -6.773857      15.87  "
      ]
     },
     "execution_count": 7,
     "metadata": {},
     "output_type": "execute_result"
    }
   ],
   "source": [
    "df = pd.DataFrame(portfolio)\n",
    "df = df.transpose()\n",
    "df = df.reset_index()\n",
    "df.rename(columns = {'index':'ticker'}, inplace = True)\n",
    "robinhood_portfolio = df\n",
    "robinhood_portfolio.head()"
   ]
  },
  {
   "cell_type": "code",
   "execution_count": 8,
   "id": "77d5e52c",
   "metadata": {},
   "outputs": [],
   "source": [
    "r.logout()"
   ]
  },
  {
   "cell_type": "markdown",
   "id": "52783f6d",
   "metadata": {},
   "source": [
    "<a class=\"anchor\" id=\"section2\"></a>\n",
    "\n",
    "# Webscraping ETF data"
   ]
  },
  {
   "cell_type": "markdown",
   "id": "e007fa6c",
   "metadata": {},
   "source": [
    "Now that the Robinhood portfolio has been accessed, the ETFs' data is scraped from marketwatch.com and stored for each ticker."
   ]
  },
  {
   "cell_type": "markdown",
   "id": "c4f1b46b",
   "metadata": {},
   "source": [
    "<a class=\"anchor\" id=\"section2.1\"></a>\n",
    "## Retrieving ETF Sector Breakdowns"
   ]
  },
  {
   "cell_type": "markdown",
   "id": "a22cbdf5",
   "metadata": {},
   "source": [
    "### Adding sector dictionary to standardize sector names across multiple DFs\n",
    "Updates to the dictionary can be made on a case by case basis as new key errors arise with the expansion of the portfolio. Because all of the web data is scraped from marketwatch.com, over time, all varieties of sector names will be captured and updates will no longer be needed."
   ]
  },
  {
   "cell_type": "code",
   "execution_count": 9,
   "id": "e0527b54",
   "metadata": {},
   "outputs": [],
   "source": [
    "real_sector_as_key = {'Information Technology': ['Technology', 'Telecommunications'], \n",
    "                      'Health Care': ['Health Care', 'Health Care/Life Sciences'], \n",
    "                      'Financials': ['Financials', 'Financial Services'], \n",
    "                      'Consumer Discretionary': ['Automotive', 'Consumer Services', 'Business/Consumer Services'], \n",
    "                      'Communication Services': ['Communication Services'], \n",
    "                      'Industrials': ['Industrials', 'Industrial Goods'], \n",
    "                      'Consumer Staples': ['Consumer Goods'], \n",
    "                      'Energy': ['Oil & Gas', 'Companies on the Energy Service'], \n",
    "                      'Utilities': ['Utilities', 'Retail/Wholesale'], \n",
    "                      'Real Estate': ['Real Estate/Construction'], \n",
    "                      'Materials': ['Basic Materials'],\n",
    "                      'NaN': [np.nan, 'N/A', 'Non Classified Equity']}\n",
    "\n",
    "real_sector_as_value = {'Technology': 'Information Technology',\n",
    "                        'Telecommunications': 'Information Technology',\n",
    "                        'Health Care': 'Health Care',\n",
    "                        'Health Care/Life Sciences': 'Health Care',\n",
    "                        'Financials': 'Financials',\n",
    "                        'Financial Services': 'Financials',\n",
    "                        'Automotive': 'Consumer Discretionary',\n",
    "                        'Business/Consumer Services': 'Consumer Discretionary', \n",
    "                        'Consumer Services': 'Consumer Discretionary',\n",
    "                        'Communication Services': 'Communication Services',\n",
    "                        'Industrials': 'Industrials',\n",
    "                        'Industrial Goods': 'Industrials',\n",
    "                        'Consumer Goods': 'Consumer Staples',\n",
    "                        'Oil & Gas': 'Energy',\n",
    "                        'Companies on the Energy Service': 'Energy',\n",
    "                        'Utilities': 'Utilities',\n",
    "                        'Retail/Wholesale': 'Utilities',\n",
    "                        'Real Estate/Construction': 'Real Estate',\n",
    "                        'Basic Materials': 'Materials',\n",
    "                         np.nan: 'NaN',\n",
    "                        'N/A': 'NaN',\n",
    "                        'Non Classified Equity': 'NaN'}"
   ]
  },
  {
   "cell_type": "code",
   "execution_count": 10,
   "id": "13cddec9",
   "metadata": {},
   "outputs": [],
   "source": [
    "def scrape_etf(ticker):\n",
    "    url = \"https://www.marketwatch.com/investing/fund/\" + ticker + \"/holdings\"\n",
    "    response = requests.get(url)\n",
    "    response_code = response.status_code\n",
    "\n",
    "    if response_code == 200:\n",
    "        html_content = response.content\n",
    "        html_content_string = response.text\n",
    "        soup = BeautifulSoup(html_content, 'html.parser')\n",
    "        sectors = soup.find_all(\"td\", {\"class\": \"table__cell w75\"})\n",
    "        sector_percent_list = []\n",
    "        for sector in sectors:\n",
    "            sector_percent_list.append(sector.text)\n",
    "        percentage = soup.find_all(\"td\", {\"class\": \"table__cell w25\"})\n",
    "        percentage_list = []\n",
    "        for curr_percent in percentage:\n",
    "            percentage_list.append(curr_percent.text)\n",
    "    return ticker, sector_percent_list, percentage_list"
   ]
  },
  {
   "cell_type": "code",
   "execution_count": 11,
   "id": "3553cd8a",
   "metadata": {},
   "outputs": [],
   "source": [
    "sector_dict = {}\n",
    "sum1 = 0\n",
    "for index in range(len(df)):\n",
    "    ticker_percent_of_portfolio = '%.4f' % (eval(df['percentage'][index])/100)\n",
    "    ticker = df['ticker'][index]\n",
    "    ticker = ticker.lower()\n",
    "    data = scrape_etf(ticker)\n",
    "    sector_name_list = data[1]\n",
    "    sector_name_list = sector_name_list[:sector_name_list.index('Stocks')]\n",
    "    sector_breakdown_list = data[2]\n",
    "    for index in range(len(sector_name_list)):\n",
    "        percentage = eval(sector_breakdown_list[index].replace('%', ''))\n",
    "        percentage = '%.4f' % (percentage / 100)\n",
    "        percentage = (eval(percentage) * eval(ticker_percent_of_portfolio))\n",
    "        sum1 += percentage\n",
    "        try:\n",
    "            sector_dict[sector_name_list[index]] += percentage\n",
    "        except:\n",
    "            sector_dict[sector_name_list[index]] = percentage"
   ]
  },
  {
   "cell_type": "code",
   "execution_count": 12,
   "id": "22f25a1f",
   "metadata": {},
   "outputs": [
    {
     "data": {
      "text/plain": [
       "{'Technology': 0.4071992200000001,\n",
       " 'Consumer Services': 0.048583180000000004,\n",
       " 'Consumer Goods': 0.03452028,\n",
       " 'Health Care': 0.33779383,\n",
       " 'Industrials': 0.050009370000000004,\n",
       " 'Telecommunications': 0.00400466,\n",
       " 'Utilities': 0.01043227,\n",
       " 'Non Classified Equity': 0.025070070000000003,\n",
       " 'Basic Materials': 0.00838495,\n",
       " 'Financials': 0.055762019999999995,\n",
       " 'Oil & Gas': 0.012133270000000002}"
      ]
     },
     "execution_count": 12,
     "metadata": {},
     "output_type": "execute_result"
    }
   ],
   "source": [
    "sector_dict"
   ]
  },
  {
   "cell_type": "code",
   "execution_count": 13,
   "id": "647b1c40",
   "metadata": {},
   "outputs": [],
   "source": [
    "percent_total = 0\n",
    "for sector, percent in sector_dict.items():\n",
    "    percent_total += percent\n",
    "sectors_list = []\n",
    "percents_list = []\n",
    "for sector, percent in sector_dict.items():\n",
    "    sectors_list.append(real_sector_as_value[sector])\n",
    "    percents_list.append(percent / percent_total)"
   ]
  },
  {
   "cell_type": "code",
   "execution_count": 14,
   "id": "e35b952c",
   "metadata": {},
   "outputs": [
    {
     "data": {
      "text/html": [
       "<div>\n",
       "<style scoped>\n",
       "    .dataframe tbody tr th:only-of-type {\n",
       "        vertical-align: middle;\n",
       "    }\n",
       "\n",
       "    .dataframe tbody tr th {\n",
       "        vertical-align: top;\n",
       "    }\n",
       "\n",
       "    .dataframe thead th {\n",
       "        text-align: right;\n",
       "    }\n",
       "</style>\n",
       "<table border=\"1\" class=\"dataframe\">\n",
       "  <thead>\n",
       "    <tr style=\"text-align: right;\">\n",
       "      <th></th>\n",
       "      <th>Sector</th>\n",
       "      <th>Percent_of_Portfolio</th>\n",
       "    </tr>\n",
       "  </thead>\n",
       "  <tbody>\n",
       "    <tr>\n",
       "      <th>0</th>\n",
       "      <td>Information Technology</td>\n",
       "      <td>0.40970122</td>\n",
       "    </tr>\n",
       "    <tr>\n",
       "      <th>1</th>\n",
       "      <td>Consumer Discretionary</td>\n",
       "      <td>0.04888169</td>\n",
       "    </tr>\n",
       "    <tr>\n",
       "      <th>2</th>\n",
       "      <td>Consumer Staples</td>\n",
       "      <td>0.03473239</td>\n",
       "    </tr>\n",
       "    <tr>\n",
       "      <th>3</th>\n",
       "      <td>Health Care</td>\n",
       "      <td>0.33986937</td>\n",
       "    </tr>\n",
       "    <tr>\n",
       "      <th>4</th>\n",
       "      <td>Industrials</td>\n",
       "      <td>0.05031665</td>\n",
       "    </tr>\n",
       "    <tr>\n",
       "      <th>5</th>\n",
       "      <td>Information Technology</td>\n",
       "      <td>0.00402927</td>\n",
       "    </tr>\n",
       "    <tr>\n",
       "      <th>6</th>\n",
       "      <td>Utilities</td>\n",
       "      <td>0.01049637</td>\n",
       "    </tr>\n",
       "    <tr>\n",
       "      <th>7</th>\n",
       "      <td>NaN</td>\n",
       "      <td>0.02522411</td>\n",
       "    </tr>\n",
       "    <tr>\n",
       "      <th>8</th>\n",
       "      <td>Materials</td>\n",
       "      <td>0.00843647</td>\n",
       "    </tr>\n",
       "    <tr>\n",
       "      <th>9</th>\n",
       "      <td>Financials</td>\n",
       "      <td>0.05610464</td>\n",
       "    </tr>\n",
       "  </tbody>\n",
       "</table>\n",
       "</div>"
      ],
      "text/plain": [
       "                   Sector  Percent_of_Portfolio\n",
       "0  Information Technology            0.40970122\n",
       "1  Consumer Discretionary            0.04888169\n",
       "2        Consumer Staples            0.03473239\n",
       "3             Health Care            0.33986937\n",
       "4             Industrials            0.05031665\n",
       "5  Information Technology            0.00402927\n",
       "6               Utilities            0.01049637\n",
       "7                     NaN            0.02522411\n",
       "8               Materials            0.00843647\n",
       "9              Financials            0.05610464"
      ]
     },
     "execution_count": 14,
     "metadata": {},
     "output_type": "execute_result"
    }
   ],
   "source": [
    "portfolio_sector_breakdown_df = pd.DataFrame(list(zip(sectors_list, percents_list)),\n",
    "               columns =['Sector', 'Percent_of_Portfolio'])\n",
    "portfolio_sector_breakdown_df.head(10)"
   ]
  },
  {
   "cell_type": "markdown",
   "id": "fc4930af",
   "metadata": {},
   "source": [
    "<a class=\"anchor\" id=\"section2.2\"></a>\n",
    "## Retrieving ETF stock holdings data"
   ]
  },
  {
   "cell_type": "code",
   "execution_count": 15,
   "id": "14767aa6",
   "metadata": {},
   "outputs": [],
   "source": [
    "def scrape_etf_holdings(ticker):\n",
    "    url = \"https://www.marketwatch.com/investing/fund/\" + ticker + \"/holdings\"\n",
    "    response = requests.get(url)\n",
    "    response_code = response.status_code\n",
    "    ticker_percent = float(df.loc[df['ticker'] == ticker.upper()].percentage) / 100\n",
    "\n",
    "    if response_code == 200:\n",
    "        html_content = response.content\n",
    "        html_content_string = response.text\n",
    "        soup = BeautifulSoup(html_content, 'html.parser')\n",
    "        tables = soup.find_all(\"tr\", {\"class\": \"table__row\"})\n",
    "        scraped_text = []\n",
    "        etf_holdings = []\n",
    "        for text in tables:\n",
    "            scraped_text.append(text.text)\n",
    "        attach = 0\n",
    "        for text in scraped_text:\n",
    "            if 'Company' in text:\n",
    "                attach += 1\n",
    "                continue\n",
    "            if attach == 2:\n",
    "                etf_holdings.append(text.split())\n",
    "        name_to_ticker = {}\n",
    "        ticker_percent_holding = {}\n",
    "        for holding in etf_holdings:\n",
    "            try:\n",
    "                name = ' '.join(holding[:-2])\n",
    "                ticker = holding[-2]\n",
    "                percent_holding = holding[-1]\n",
    "                percent_holding = percent_holding.replace('%', '')\n",
    "                percent_holding = '%.4f' % (eval(percent_holding) / 100)\n",
    "                name_to_ticker[ticker] = name\n",
    "                ticker_percent_holding[ticker] = eval(percent_holding) * ticker_percent\n",
    "            except:\n",
    "                continue\n",
    "    return name_to_ticker, ticker_percent_holding"
   ]
  },
  {
   "cell_type": "code",
   "execution_count": 16,
   "id": "07529ce5",
   "metadata": {},
   "outputs": [],
   "source": [
    "master_holdings = {}\n",
    "company_names = {}"
   ]
  },
  {
   "cell_type": "code",
   "execution_count": 17,
   "id": "3c67a641",
   "metadata": {},
   "outputs": [],
   "source": [
    "def add_holding(ticker):\n",
    "    name_to_ticker = scrape_etf_holdings(ticker)[0]\n",
    "    ticker_percent_holding = scrape_etf_holdings(ticker)[1]\n",
    "    for stock, percentage in ticker_percent_holding.items():\n",
    "        try:\n",
    "            master_holdings[stock] += percentage\n",
    "        except:\n",
    "            master_holdings[stock] = percentage\n",
    "    for ticker, name in name_to_ticker.items():\n",
    "        company_names[ticker] = name\n",
    "for index in range(len(df)):\n",
    "    etf = df['ticker'][index]\n",
    "    add_holding(etf.lower())"
   ]
  },
  {
   "cell_type": "markdown",
   "id": "0de13148",
   "metadata": {},
   "source": [
    "## Creating Stock Ticker to Name DataFrame"
   ]
  },
  {
   "cell_type": "code",
   "execution_count": 18,
   "id": "387a3584",
   "metadata": {},
   "outputs": [
    {
     "data": {
      "text/html": [
       "<div>\n",
       "<style scoped>\n",
       "    .dataframe tbody tr th:only-of-type {\n",
       "        vertical-align: middle;\n",
       "    }\n",
       "\n",
       "    .dataframe tbody tr th {\n",
       "        vertical-align: top;\n",
       "    }\n",
       "\n",
       "    .dataframe thead th {\n",
       "        text-align: right;\n",
       "    }\n",
       "</style>\n",
       "<table border=\"1\" class=\"dataframe\">\n",
       "  <thead>\n",
       "    <tr style=\"text-align: right;\">\n",
       "      <th></th>\n",
       "      <th>Ticker</th>\n",
       "      <th>Company</th>\n",
       "    </tr>\n",
       "  </thead>\n",
       "  <tbody>\n",
       "    <tr>\n",
       "      <th>0</th>\n",
       "      <td>AAPL</td>\n",
       "      <td>Apple Inc.</td>\n",
       "    </tr>\n",
       "    <tr>\n",
       "      <th>1</th>\n",
       "      <td>MSFT</td>\n",
       "      <td>Microsoft Corp.</td>\n",
       "    </tr>\n",
       "    <tr>\n",
       "      <th>2</th>\n",
       "      <td>AMZN</td>\n",
       "      <td>Amazon.com Inc.</td>\n",
       "    </tr>\n",
       "    <tr>\n",
       "      <th>3</th>\n",
       "      <td>TSLA</td>\n",
       "      <td>Tesla Inc.</td>\n",
       "    </tr>\n",
       "    <tr>\n",
       "      <th>4</th>\n",
       "      <td>GOOG</td>\n",
       "      <td>Alphabet Inc. Cl C</td>\n",
       "    </tr>\n",
       "  </tbody>\n",
       "</table>\n",
       "</div>"
      ],
      "text/plain": [
       "  Ticker             Company\n",
       "0   AAPL          Apple Inc.\n",
       "1   MSFT     Microsoft Corp.\n",
       "2   AMZN     Amazon.com Inc.\n",
       "3   TSLA          Tesla Inc.\n",
       "4   GOOG  Alphabet Inc. Cl C"
      ]
     },
     "execution_count": 18,
     "metadata": {},
     "output_type": "execute_result"
    }
   ],
   "source": [
    "company_list = []\n",
    "ticker_list = []\n",
    "for ticker, name in company_names.items():\n",
    "    ticker_list.append(ticker)\n",
    "    company_list.append(name)\n",
    "company_names_df = pd.DataFrame(list(zip(ticker_list, company_list)))\n",
    "company_names_df.columns = ['Ticker', 'Company']\n",
    "company_names_df.head()"
   ]
  },
  {
   "cell_type": "code",
   "execution_count": 19,
   "id": "b55a85a7",
   "metadata": {},
   "outputs": [],
   "source": [
    "ticker_list = []\n",
    "ticker_percent_list = []\n",
    "for ticker, percent in master_holdings.items():\n",
    "    ticker_list.append(ticker)\n",
    "    ticker_percent_list.append(percent)\n",
    "master_holdings_df = pd.DataFrame(list(zip(ticker_list, ticker_percent_list)))\n",
    "master_holdings_df.columns = ['Stock', 'Percent_of_Portfolio']"
   ]
  },
  {
   "cell_type": "markdown",
   "id": "25b3c023",
   "metadata": {},
   "source": [
    "## Finding the corresponding sector for each stock"
   ]
  },
  {
   "cell_type": "code",
   "execution_count": 20,
   "id": "f25ee632",
   "metadata": {},
   "outputs": [],
   "source": [
    "def scrape_stock_sector(ticker):\n",
    "    url = \"https://www.marketwatch.com/investing/stock/\" + ticker + \"/company-profile?mod=mw_quote_tab\"\n",
    "    response = requests.get(url)\n",
    "    response_code = response.status_code\n",
    "\n",
    "    if response_code == 200:\n",
    "        html_content = response.content\n",
    "        html_content_string = response.text\n",
    "        soup = BeautifulSoup(html_content, 'html.parser')\n",
    "        info = soup.find_all(\"li\", {\"class\": \"kv__item w100\"})\n",
    "        attach = 0\n",
    "        sector = np.nan\n",
    "        for text in info:\n",
    "            text = text.text\n",
    "            if 'Sector' in text:\n",
    "                sector = text.split()\n",
    "                return ' '.join(sector[1:])\n",
    "        return sector"
   ]
  },
  {
   "cell_type": "code",
   "execution_count": 21,
   "id": "8c1b42ad",
   "metadata": {},
   "outputs": [],
   "source": [
    "sector_list = []\n",
    "for ticker in ticker_list:\n",
    "    sector_list.append(real_sector_as_value[scrape_stock_sector(ticker.lower())])"
   ]
  },
  {
   "cell_type": "code",
   "execution_count": 22,
   "id": "8b3488bb",
   "metadata": {},
   "outputs": [
    {
     "data": {
      "text/html": [
       "<div>\n",
       "<style scoped>\n",
       "    .dataframe tbody tr th:only-of-type {\n",
       "        vertical-align: middle;\n",
       "    }\n",
       "\n",
       "    .dataframe tbody tr th {\n",
       "        vertical-align: top;\n",
       "    }\n",
       "\n",
       "    .dataframe thead th {\n",
       "        text-align: right;\n",
       "    }\n",
       "</style>\n",
       "<table border=\"1\" class=\"dataframe\">\n",
       "  <thead>\n",
       "    <tr style=\"text-align: right;\">\n",
       "      <th></th>\n",
       "      <th>Ticker</th>\n",
       "      <th>Sector</th>\n",
       "    </tr>\n",
       "  </thead>\n",
       "  <tbody>\n",
       "    <tr>\n",
       "      <th>0</th>\n",
       "      <td>AAPL</td>\n",
       "      <td>Information Technology</td>\n",
       "    </tr>\n",
       "    <tr>\n",
       "      <th>1</th>\n",
       "      <td>MSFT</td>\n",
       "      <td>Information Technology</td>\n",
       "    </tr>\n",
       "    <tr>\n",
       "      <th>2</th>\n",
       "      <td>AMZN</td>\n",
       "      <td>Utilities</td>\n",
       "    </tr>\n",
       "    <tr>\n",
       "      <th>3</th>\n",
       "      <td>TSLA</td>\n",
       "      <td>Consumer Discretionary</td>\n",
       "    </tr>\n",
       "    <tr>\n",
       "      <th>4</th>\n",
       "      <td>GOOG</td>\n",
       "      <td>Information Technology</td>\n",
       "    </tr>\n",
       "  </tbody>\n",
       "</table>\n",
       "</div>"
      ],
      "text/plain": [
       "  Ticker                  Sector\n",
       "0   AAPL  Information Technology\n",
       "1   MSFT  Information Technology\n",
       "2   AMZN               Utilities\n",
       "3   TSLA  Consumer Discretionary\n",
       "4   GOOG  Information Technology"
      ]
     },
     "execution_count": 22,
     "metadata": {},
     "output_type": "execute_result"
    }
   ],
   "source": [
    "stock_sectors_df = pd.DataFrame(list(zip(ticker_list, sector_list)))\n",
    "stock_sectors_df.columns = ['Ticker', 'Sector']\n",
    "stock_sectors_df.head()"
   ]
  },
  {
   "cell_type": "markdown",
   "id": "9de80bb7",
   "metadata": {},
   "source": [
    "## Checking for standardization in sector names across multiple DFs"
   ]
  },
  {
   "cell_type": "code",
   "execution_count": 23,
   "id": "3e9367ee",
   "metadata": {},
   "outputs": [
    {
     "data": {
      "text/html": [
       "<div>\n",
       "<style scoped>\n",
       "    .dataframe tbody tr th:only-of-type {\n",
       "        vertical-align: middle;\n",
       "    }\n",
       "\n",
       "    .dataframe tbody tr th {\n",
       "        vertical-align: top;\n",
       "    }\n",
       "\n",
       "    .dataframe thead th {\n",
       "        text-align: right;\n",
       "    }\n",
       "</style>\n",
       "<table border=\"1\" class=\"dataframe\">\n",
       "  <thead>\n",
       "    <tr style=\"text-align: right;\">\n",
       "      <th></th>\n",
       "      <th>Sector</th>\n",
       "      <th>Percent_of_Portfolio</th>\n",
       "    </tr>\n",
       "  </thead>\n",
       "  <tbody>\n",
       "    <tr>\n",
       "      <th>0</th>\n",
       "      <td>Information Technology</td>\n",
       "      <td>0.40970122</td>\n",
       "    </tr>\n",
       "    <tr>\n",
       "      <th>1</th>\n",
       "      <td>Consumer Discretionary</td>\n",
       "      <td>0.04888169</td>\n",
       "    </tr>\n",
       "    <tr>\n",
       "      <th>2</th>\n",
       "      <td>Consumer Staples</td>\n",
       "      <td>0.03473239</td>\n",
       "    </tr>\n",
       "    <tr>\n",
       "      <th>3</th>\n",
       "      <td>Health Care</td>\n",
       "      <td>0.33986937</td>\n",
       "    </tr>\n",
       "    <tr>\n",
       "      <th>4</th>\n",
       "      <td>Industrials</td>\n",
       "      <td>0.05031665</td>\n",
       "    </tr>\n",
       "  </tbody>\n",
       "</table>\n",
       "</div>"
      ],
      "text/plain": [
       "                   Sector  Percent_of_Portfolio\n",
       "0  Information Technology            0.40970122\n",
       "1  Consumer Discretionary            0.04888169\n",
       "2        Consumer Staples            0.03473239\n",
       "3             Health Care            0.33986937\n",
       "4             Industrials            0.05031665"
      ]
     },
     "execution_count": 23,
     "metadata": {},
     "output_type": "execute_result"
    }
   ],
   "source": [
    "portfolio_sector_breakdown_df.head()"
   ]
  },
  {
   "cell_type": "code",
   "execution_count": 24,
   "id": "9f5356ad",
   "metadata": {},
   "outputs": [
    {
     "data": {
      "text/html": [
       "<div>\n",
       "<style scoped>\n",
       "    .dataframe tbody tr th:only-of-type {\n",
       "        vertical-align: middle;\n",
       "    }\n",
       "\n",
       "    .dataframe tbody tr th {\n",
       "        vertical-align: top;\n",
       "    }\n",
       "\n",
       "    .dataframe thead th {\n",
       "        text-align: right;\n",
       "    }\n",
       "</style>\n",
       "<table border=\"1\" class=\"dataframe\">\n",
       "  <thead>\n",
       "    <tr style=\"text-align: right;\">\n",
       "      <th></th>\n",
       "      <th>Ticker</th>\n",
       "      <th>Sector</th>\n",
       "    </tr>\n",
       "  </thead>\n",
       "  <tbody>\n",
       "    <tr>\n",
       "      <th>0</th>\n",
       "      <td>AAPL</td>\n",
       "      <td>Information Technology</td>\n",
       "    </tr>\n",
       "    <tr>\n",
       "      <th>1</th>\n",
       "      <td>MSFT</td>\n",
       "      <td>Information Technology</td>\n",
       "    </tr>\n",
       "    <tr>\n",
       "      <th>2</th>\n",
       "      <td>AMZN</td>\n",
       "      <td>Utilities</td>\n",
       "    </tr>\n",
       "    <tr>\n",
       "      <th>3</th>\n",
       "      <td>TSLA</td>\n",
       "      <td>Consumer Discretionary</td>\n",
       "    </tr>\n",
       "    <tr>\n",
       "      <th>4</th>\n",
       "      <td>GOOG</td>\n",
       "      <td>Information Technology</td>\n",
       "    </tr>\n",
       "  </tbody>\n",
       "</table>\n",
       "</div>"
      ],
      "text/plain": [
       "  Ticker                  Sector\n",
       "0   AAPL  Information Technology\n",
       "1   MSFT  Information Technology\n",
       "2   AMZN               Utilities\n",
       "3   TSLA  Consumer Discretionary\n",
       "4   GOOG  Information Technology"
      ]
     },
     "execution_count": 24,
     "metadata": {},
     "output_type": "execute_result"
    }
   ],
   "source": [
    "stock_sectors_df.head()"
   ]
  },
  {
   "cell_type": "code",
   "execution_count": 25,
   "id": "60f0a780",
   "metadata": {},
   "outputs": [
    {
     "data": {
      "text/plain": [
       "['Information Technology',\n",
       " 'Consumer Discretionary',\n",
       " 'Consumer Staples',\n",
       " 'Health Care',\n",
       " 'Industrials',\n",
       " 'Utilities',\n",
       " 'NaN',\n",
       " 'Materials',\n",
       " 'Financials',\n",
       " 'Energy',\n",
       " 'Real Estate']"
      ]
     },
     "execution_count": 25,
     "metadata": {},
     "output_type": "execute_result"
    }
   ],
   "source": [
    "all_sectors_found = []\n",
    "for sector in portfolio_sector_breakdown_df.Sector:\n",
    "    if sector not in all_sectors_found:\n",
    "        all_sectors_found.append(sector)\n",
    "for sector in stock_sectors_df.Sector:\n",
    "    if sector not in all_sectors_found:\n",
    "        all_sectors_found.append(sector)\n",
    "all_sectors_found"
   ]
  },
  {
   "cell_type": "markdown",
   "id": "0e601033",
   "metadata": {},
   "source": [
    "# Using InvestPy to retreive top held stocks market history"
   ]
  },
  {
   "cell_type": "code",
   "execution_count": 26,
   "id": "15e9512b",
   "metadata": {},
   "outputs": [],
   "source": [
    "def get_stock_history(ticker):\n",
    "    today = date.today()\n",
    "    current_day = today.strftime(\"%m/%d/%Y\")\n",
    "    ten_years_ago = (today - relativedelta(years=10)).strftime(\"%m/%d/%Y\")\n",
    "    try:\n",
    "        df = investpy.get_stock_historical_data(stock=ticker.upper(),\n",
    "                                            country='United States',\n",
    "                                            from_date=ten_years_ago,\n",
    "                                             to_date=current_day)\n",
    "        return df, ticker\n",
    "    except:\n",
    "        pass"
   ]
  },
  {
   "cell_type": "markdown",
   "id": "7ccfdf5c",
   "metadata": {},
   "source": [
    "<a class=\"anchor\" id=\"section3\"></a>\n",
    "# Connecting to Google Sheets API"
   ]
  },
  {
   "cell_type": "markdown",
   "id": "9a8d7104",
   "metadata": {},
   "source": [
    "All DataFrames are now being written to a Google Sheets page that serves as a live connection for a Tableau Dashboard. The Google Sheets and Google Drive API keys are retrieved from an encrypted .json file."
   ]
  },
  {
   "cell_type": "code",
   "execution_count": 27,
   "id": "f7321d55",
   "metadata": {},
   "outputs": [],
   "source": [
    "import gspread as gs\n",
    "from df2gspread import df2gspread as d2g\n",
    "from oauth2client.service_account import ServiceAccountCredentials"
   ]
  },
  {
   "cell_type": "code",
   "execution_count": 28,
   "id": "332f3249",
   "metadata": {},
   "outputs": [],
   "source": [
    "scope = ['https://spreadsheets.google.com/feeds',\n",
    "         'https://www.googleapis.com/auth/drive']\n",
    "credentials = ServiceAccountCredentials.from_json_keyfile_name(\n",
    "    gdapi, scope)\n",
    "gc = gs.authorize(credentials)"
   ]
  },
  {
   "cell_type": "code",
   "execution_count": 29,
   "id": "b3145314",
   "metadata": {},
   "outputs": [],
   "source": [
    "wks_name1 = \"Sector_Breakdown\"\n",
    "wks_name2 = \"Stock_Holdings\"\n",
    "wks_name3 = \"Company Names\"\n",
    "wks_name4 = \"Ticker and Sector\"\n",
    "df1 = portfolio_sector_breakdown_df\n",
    "df2 = master_holdings_df\n",
    "df3 = company_names_df\n",
    "df4 = stock_sectors_df\n",
    "wks = d2g.upload(df=df1, gfile=spread_key, wks_name=wks_name1, credentials=credentials, row_names=False)\n",
    "wks = d2g.upload(df=df2, gfile=spread_key, wks_name=wks_name2, credentials=credentials, row_names=False)\n",
    "wks = d2g.upload(df=df3, gfile=spread_key, wks_name=wks_name3, credentials=credentials, row_names=False)\n",
    "wks = d2g.upload(df=df4, gfile=spread_key, wks_name=wks_name4, credentials=credentials, row_names=False)"
   ]
  },
  {
   "cell_type": "markdown",
   "id": "ec6efd38",
   "metadata": {},
   "source": [
    "## Retrieving top holdings market history and writing to unique sheet"
   ]
  },
  {
   "cell_type": "code",
   "execution_count": 30,
   "id": "167801bb",
   "metadata": {},
   "outputs": [],
   "source": [
    "def upload_stock_data(ticker):\n",
    "    try:\n",
    "        wks_name = ticker\n",
    "        df = get_stock_history(ticker)[0]\n",
    "        wks = d2g.upload(df=df, gfile=spread_key, wks_name=wks_name, credentials=credentials, row_names=False)\n",
    "    except:\n",
    "        pass"
   ]
  },
  {
   "cell_type": "markdown",
   "id": "e07ce7c7",
   "metadata": {},
   "source": [
    "Putting the upload_stock_data loop in a function so that the kernel can be restart and ran without mandatory for loop execution."
   ]
  },
  {
   "cell_type": "code",
   "execution_count": 31,
   "id": "e45c52c4",
   "metadata": {},
   "outputs": [],
   "source": [
    "def start():\n",
    "    x = input('Retrieve current market history for top ' + str(len(ticker_list)) + \" stocks held? (Yes/No)\")\n",
    "    if x.lower() == 'yes':\n",
    "        for ticker in ticker_list:\n",
    "            upload_stock_data(ticker)"
   ]
  },
  {
   "cell_type": "markdown",
   "id": "c1971747",
   "metadata": {},
   "source": [
    "# Tableau Visualizations"
   ]
  },
  {
   "cell_type": "code",
   "execution_count": 32,
   "id": "7992c6f0",
   "metadata": {
    "scrolled": false
   },
   "outputs": [
    {
     "data": {
      "text/html": [
       "<div class='tableauPlaceholder' id='viz1660003454924' style='position: relative'><noscript><a href='#'><img alt='Dashboard 1 ' src='https:&#47;&#47;public.tableau.com&#47;static&#47;images&#47;ET&#47;ETFPortfolioDash&#47;Dashboard1&#47;1_rss.png' style='border: none' /></a></noscript><object class='tableauViz'  style='display:none;'><param name='host_url' value='https%3A%2F%2Fpublic.tableau.com%2F' /> <param name='embed_code_version' value='3' /> <param name='site_root' value='' /><param name='name' value='ETFPortfolioDash&#47;Dashboard1' /><param name='tabs' value='no' /><param name='toolbar' value='yes' /><param name='static_image' value='https:&#47;&#47;public.tableau.com&#47;static&#47;images&#47;ET&#47;ETFPortfolioDash&#47;Dashboard1&#47;1.png' /> <param name='animate_transition' value='yes' /><param name='display_static_image' value='yes' /><param name='display_spinner' value='yes' /><param name='display_overlay' value='yes' /><param name='display_count' value='yes' /><param name='language' value='en-US' /></object></div>                <script type='text/javascript'>                    var divElement = document.getElementById('viz1660003454924');                    var vizElement = divElement.getElementsByTagName('object')[0];                    if ( divElement.offsetWidth > 800 ) { vizElement.style.width='1000px';vizElement.style.height='827px';} else if ( divElement.offsetWidth > 500 ) { vizElement.style.width='1000px';vizElement.style.height='827px';} else { vizElement.style.width='100%';vizElement.style.height='727px';}                     var scriptElement = document.createElement('script');                    scriptElement.src = 'https://public.tableau.com/javascripts/api/viz_v1.js';                    vizElement.parentNode.insertBefore(scriptElement, vizElement);                </script>\n"
      ],
      "text/plain": [
       "<IPython.core.display.HTML object>"
      ]
     },
     "metadata": {},
     "output_type": "display_data"
    }
   ],
   "source": [
    "%%html\n",
    "<div class='tableauPlaceholder' id='viz1660003454924' style='position: relative'><noscript><a href='#'><img alt='Dashboard 1 ' src='https:&#47;&#47;public.tableau.com&#47;static&#47;images&#47;ET&#47;ETFPortfolioDash&#47;Dashboard1&#47;1_rss.png' style='border: none' /></a></noscript><object class='tableauViz'  style='display:none;'><param name='host_url' value='https%3A%2F%2Fpublic.tableau.com%2F' /> <param name='embed_code_version' value='3' /> <param name='site_root' value='' /><param name='name' value='ETFPortfolioDash&#47;Dashboard1' /><param name='tabs' value='no' /><param name='toolbar' value='yes' /><param name='static_image' value='https:&#47;&#47;public.tableau.com&#47;static&#47;images&#47;ET&#47;ETFPortfolioDash&#47;Dashboard1&#47;1.png' /> <param name='animate_transition' value='yes' /><param name='display_static_image' value='yes' /><param name='display_spinner' value='yes' /><param name='display_overlay' value='yes' /><param name='display_count' value='yes' /><param name='language' value='en-US' /></object></div>                <script type='text/javascript'>                    var divElement = document.getElementById('viz1660003454924');                    var vizElement = divElement.getElementsByTagName('object')[0];                    if ( divElement.offsetWidth > 800 ) { vizElement.style.width='1000px';vizElement.style.height='827px';} else if ( divElement.offsetWidth > 500 ) { vizElement.style.width='1000px';vizElement.style.height='827px';} else { vizElement.style.width='100%';vizElement.style.height='727px';}                     var scriptElement = document.createElement('script');                    scriptElement.src = 'https://public.tableau.com/javascripts/api/viz_v1.js';                    vizElement.parentNode.insertBefore(scriptElement, vizElement);                </script>"
   ]
  },
  {
   "cell_type": "markdown",
   "id": "33cf5ea5",
   "metadata": {},
   "source": [
    "## Runtime statistics"
   ]
  },
  {
   "cell_type": "code",
   "execution_count": 33,
   "id": "c0db39bd",
   "metadata": {},
   "outputs": [
    {
     "data": {
      "text/plain": [
       "datetime.timedelta(seconds=46, microseconds=150623)"
      ]
     },
     "execution_count": 33,
     "metadata": {},
     "output_type": "execute_result"
    }
   ],
   "source": [
    "finishtime = datetime.now()"
   ]
  },
  {
   "cell_type": "code",
   "execution_count": 37,
   "id": "8a944b25",
   "metadata": {},
   "outputs": [
    {
     "name": "stdout",
     "output_type": "stream",
     "text": [
      "Total runtime:  0:00:46.150623\n"
     ]
    }
   ],
   "source": [
    "elapsed_time = finishtime - starttime\n",
    "print(\"Total runtime: \", elapsed_time)"
   ]
  },
  {
   "cell_type": "code",
   "execution_count": null,
   "id": "2981cd74",
   "metadata": {},
   "outputs": [],
   "source": []
  }
 ],
 "metadata": {
  "kernelspec": {
   "display_name": "Python 3 (ipykernel)",
   "language": "python",
   "name": "python3"
  },
  "language_info": {
   "codemirror_mode": {
    "name": "ipython",
    "version": 3
   },
   "file_extension": ".py",
   "mimetype": "text/x-python",
   "name": "python",
   "nbconvert_exporter": "python",
   "pygments_lexer": "ipython3",
   "version": "3.9.7"
  }
 },
 "nbformat": 4,
 "nbformat_minor": 5
}
