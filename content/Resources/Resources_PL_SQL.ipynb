{
  "metadata": {
    "language_info": {
      "codemirror_mode": "sql",
      "file_extension": "",
      "mimetype": "",
      "name": "sql",
      "version": "3.32.3"
    },
    "kernelspec": {
      "name": "SQLite",
      "display_name": "SQLite",
      "language": "sql"
    }
  },
  "nbformat_minor": 4,
  "nbformat": 4,
  "cells": [
    {
      "cell_type": "markdown",
      "source": "<h1>PL/SQL</h1>",
      "metadata": {}
    },
    {
      "cell_type": "markdown",
      "source": "## Contents:\n* [Anonymous Blocks](#section1)\n    * [Comments](#section1.1)\n    * [Nesting Blocks](#section1.2)\n    * [Scope of Variables](#section1.3)\n    * [Visibility of Variables](#section1.4)\n* [Data Types](#section2)\n    * [Numbers](#section2.1)\n    * [Inherited Types](#section2.2)\n    * [Timestamps](#section2.3)\n    * [Intervals](#section2.4)\n    * [Booleans](#section2.5)\n    * [Records](#section2.6)\n    * [%ROWTYPE](#section2.7)\n* [Loops](#section3)\n    * [For Loop](#section3.1)\n    * [Loop Labels](#section3.2)\n    * [Nested Loops](#section3.3)\n        * [Continue When](#section3.3.1)\n    * [While Loops](#section3.4)\n        * [Random Values](#section3.4.1)\n* [Conditional Execution](#section4)\n    * [If Statements](#section4.1)\n    * [When Statements](#section4.2)\n    * [Simple Case Expression](#section4.3)\n* [Cursors](#section5)\n    * [Implicit Cursors](#section5.1)\n    * [Explicit Cursors](#section5.2)\n",
      "metadata": {}
    },
    {
      "cell_type": "markdown",
      "source": "<h2>Anonymous blocks</h2> <a class=\"anchor\" id=\"section1\"></a>",
      "metadata": {}
    },
    {
      "cell_type": "markdown",
      "source": "Anonymous blocks are made up of three distinct sections. \n1. Declaration (optional)\n2. Exectution (required)\n3. Exception (optional)",
      "metadata": {}
    },
    {
      "cell_type": "code",
      "source": "-- declaration\ndeclare\n    l_counter number;\n-- execution\nbegin\n    l_counter := 1;\n-- exception \nexception\n    when others then\n        null;\n    end;",
      "metadata": {
        "trusted": true
      },
      "execution_count": 2,
      "outputs": [
        {
          "ename": "Error",
          "evalue": "Please load a database to perform operations",
          "traceback": [
            "Error: Please load a database to perform operations"
          ],
          "output_type": "error"
        }
      ]
    },
    {
      "cell_type": "markdown",
      "source": "<h3>Comments</h3> <a class=\"anchor\" id=\"section1.1\"></a>",
      "metadata": {}
    },
    {
      "cell_type": "markdown",
      "source": "1. Single line: -- text here\n2. Multiline: /* text \n\n                   also\n                   \n                    here */",
      "metadata": {}
    },
    {
      "cell_type": "markdown",
      "source": "<h3>Nesting Blocks</h3> <a class=\"anchor\" id=\"section1.2\"></a>",
      "metadata": {}
    },
    {
      "cell_type": "markdown",
      "source": "Blocks have the ability to be nested.",
      "metadata": {}
    },
    {
      "cell_type": "code",
      "source": "declare\n    l_outer number;\nbegin\n    l_outer := 1; --initialization of l_var\n    \n    declare\n        l_inner number;\n    begin\n        l_inner := 2/0;\n    exception\n        when others then\n            --do something\n        null;\n    end;\n    \n    l_outer := 2;\n    \nexception\n    when others then\n        -- do something\n    null;\nend;",
      "metadata": {
        "trusted": true
      },
      "execution_count": 4,
      "outputs": [
        {
          "ename": "Error",
          "evalue": "Please load a database to perform operations",
          "traceback": [
            "Error: Please load a database to perform operations"
          ],
          "output_type": "error"
        }
      ]
    },
    {
      "cell_type": "markdown",
      "source": "<h3>Scope of Variables</h3> <a class=\"anchor\" id=\"section1.3\"></a>",
      "metadata": {}
    },
    {
      "cell_type": "markdown",
      "source": "Variables defined in an outer block, have a scope in the outer block and all inner blocks it contains (similar to Global variables in Python). \nVariables defined in an inner block only have a scope inside of the inner block (similar to a locally defined variable in a function).",
      "metadata": {}
    },
    {
      "cell_type": "code",
      "source": "declare\n    l_outer number;\nbegin\n    l_outer := 1; --initialization of l_var\n    \n    declare\n        l_inner number;\n    begin\n        l_outer := 2; --update l_outer value\n        l_inner := 3; --inside scope of inner block\n    end;\n\nexception\n    when others then\n        --do something\n    null;\nend;",
      "metadata": {
        "trusted": true
      },
      "execution_count": 5,
      "outputs": [
        {
          "ename": "Error",
          "evalue": "Please load a database to perform operations",
          "traceback": [
            "Error: Please load a database to perform operations"
          ],
          "output_type": "error"
        }
      ]
    },
    {
      "cell_type": "markdown",
      "source": "<h3>Visibility of Variables</h3>",
      "metadata": {}
    },
    {
      "cell_type": "markdown",
      "source": "If a variable is defined in bouth an outer and inner block, the inner block will override the visibility of the outer block variable.",
      "metadata": {}
    },
    {
      "cell_type": "code",
      "source": "declare\n    l_var number;\n    l_outer number;\nbegin\n    l_outer := 1;\n    l_var := 1;\n    \n    declare\n        l_var number;\n        l_inner number;\n    begin\n        l_var := 2;\n        l_inner := 2;\n        dbms_output.put_line('l_var in the innner block is '||l_var);\n    end;\n    \n    dbms_output.put_line('l_var in the outer block is '||l_var);\nexception\n    when other then\n        --do something\n        null;\nend;",
      "metadata": {
        "trusted": true
      },
      "execution_count": 7,
      "outputs": [
        {
          "ename": "Error",
          "evalue": "Please load a database to perform operations",
          "traceback": [
            "Error: Please load a database to perform operations"
          ],
          "output_type": "error"
        }
      ]
    },
    {
      "cell_type": "code",
      "source": "",
      "metadata": {},
      "execution_count": null,
      "outputs": []
    }
  ]
}