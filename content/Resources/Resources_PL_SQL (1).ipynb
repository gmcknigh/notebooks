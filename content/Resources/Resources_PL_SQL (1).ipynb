{
  "metadata": {
    "language_info": {
      "codemirror_mode": "sql",
      "file_extension": "",
      "mimetype": "",
      "name": "sql",
      "version": "3.32.3"
    },
    "kernelspec": {
      "name": "SQLite",
      "display_name": "SQLite",
      "language": "sql"
    }
  },
  "nbformat_minor": 4,
  "nbformat": 4,
  "cells": [
    {
      "cell_type": "markdown",
      "source": "<h1>PL/SQL</h1>",
      "metadata": {}
    },
    {
      "cell_type": "markdown",
      "source": "## Contents:\n* [Anonymous Blocks](#section1)\n    * [Comments](#section1.1)\n    * [Nesting Blocks](#section1.2)\n    * [Scope of Variables](#section1.3)\n    * [Visibility of Variables](#section1.4)\n* [Data Types](#section2)\n    * [Numbers](#section2.1)\n    * [Inherited Types](#section2.2)\n    * [Timestamps](#section2.3)\n    * [Intervals](#section2.4)\n    * [Booleans](#section2.5)\n    * [Records](#section2.6)\n    * [%ROWTYPE](#section2.7)\n* [Loops](#section3)\n    * [For Loop](#section3.1)\n    * [Loop Labels](#section3.2)\n    * [Nested Loops](#section3.3)\n        * [Continue When](#section3.3.1)\n    * [While Loops](#section3.4)\n        * [Random Values](#section3.4.1)\n* [Conditional Execution](#section4)\n    * [If, Elsif, and Else Statements](#section4.1)\n    * [When Statements](#section4.2)\n    * [Simple Case Expression](#section4.3)\n* [Cursors](#section5)\n    * [Implicit Cursors](#section5.1)\n    * [Explicit Cursors](#section5.2)\n",
      "metadata": {}
    },
    {
      "cell_type": "markdown",
      "source": "<h2>Anonymous blocks</h2> <a class=\"anchor\" id=\"section1\"></a>",
      "metadata": {}
    },
    {
      "cell_type": "markdown",
      "source": "Anonymous blocks are made up of three distinct sections. \n1. Declaration (optional)\n2. Exectution (required)\n3. Exception (optional)",
      "metadata": {}
    },
    {
      "cell_type": "code",
      "source": "-- declaration\ndeclare\n    l_counter number;\n-- execution\nbegin\n    l_counter := 1;\n-- exception \nexception\n    when others then\n        null;\n    end;",
      "metadata": {
        "trusted": true
      },
      "execution_count": 2,
      "outputs": [
        {
          "ename": "Error",
          "evalue": "Please load a database to perform operations",
          "traceback": [
            "Error: Please load a database to perform operations"
          ],
          "output_type": "error"
        }
      ]
    },
    {
      "cell_type": "markdown",
      "source": "<h3>Comments</h3> <a class=\"anchor\" id=\"section1.1\"></a>",
      "metadata": {}
    },
    {
      "cell_type": "markdown",
      "source": "1. Single line: -- text here\n2. Multiline: /* text \n\n                   also\n                   \n                    here */",
      "metadata": {}
    },
    {
      "cell_type": "markdown",
      "source": "<h3>Nesting Blocks</h3> <a class=\"anchor\" id=\"section1.2\"></a>",
      "metadata": {}
    },
    {
      "cell_type": "markdown",
      "source": "Blocks have the ability to be nested.",
      "metadata": {}
    },
    {
      "cell_type": "code",
      "source": "declare\n    l_outer number;\nbegin\n    l_outer := 1; --initialization of l_var\n    \n    declare\n        l_inner number;\n    begin\n        l_inner := 2/0;\n    exception\n        when others then\n            --do something\n        null;\n    end;\n    \n    l_outer := 2;\n    \nexception\n    when others then\n        -- do something\n    null;\nend;",
      "metadata": {
        "trusted": true
      },
      "execution_count": 4,
      "outputs": [
        {
          "ename": "Error",
          "evalue": "Please load a database to perform operations",
          "traceback": [
            "Error: Please load a database to perform operations"
          ],
          "output_type": "error"
        }
      ]
    },
    {
      "cell_type": "markdown",
      "source": "<h3>Scope of Variables</h3> <a class=\"anchor\" id=\"section1.3\"></a>",
      "metadata": {}
    },
    {
      "cell_type": "markdown",
      "source": "Variables defined in an outer block, have a scope in the outer block and all inner blocks it contains (similar to Global variables in Python). \nVariables defined in an inner block only have a scope inside of the inner block (similar to a locally defined variable in a function).",
      "metadata": {}
    },
    {
      "cell_type": "code",
      "source": "declare\n    l_outer number;\nbegin\n    l_outer := 1; --initialization of l_var\n    \n    declare\n        l_inner number;\n    begin\n        l_outer := 2; --update l_outer value\n        l_inner := 3; --inside scope of inner block\n    end;\n\nexception\n    when others then\n        --do something\n    null;\nend;",
      "metadata": {
        "trusted": true
      },
      "execution_count": 5,
      "outputs": [
        {
          "ename": "Error",
          "evalue": "Please load a database to perform operations",
          "traceback": [
            "Error: Please load a database to perform operations"
          ],
          "output_type": "error"
        }
      ]
    },
    {
      "cell_type": "markdown",
      "source": "<h3>Visibility of Variables</h3> <a class=\"anchor\" id=\"section1.4\"></a>",
      "metadata": {}
    },
    {
      "cell_type": "markdown",
      "source": "If a variable is defined in bouth an outer and inner block, the inner block will override the visibility of the outer block variable.",
      "metadata": {}
    },
    {
      "cell_type": "code",
      "source": "declare\n    l_var number;\n    l_outer number;\nbegin\n    l_outer := 1;\n    l_var := 1;\n    \n    declare\n        l_var number;\n        l_inner number;\n    begin\n        l_var := 2;\n        l_inner := 2;\n        dbms_output.put_line('l_var in the innner block is '||l_var);\n    end;\n    \n    dbms_output.put_line('l_var in the outer block is '||l_var);\nexception\n    when other then\n        --do something\n        null;\nend;",
      "metadata": {
        "trusted": true
      },
      "execution_count": 7,
      "outputs": [
        {
          "ename": "Error",
          "evalue": "Please load a database to perform operations",
          "traceback": [
            "Error: Please load a database to perform operations"
          ],
          "output_type": "error"
        }
      ]
    },
    {
      "cell_type": "markdown",
      "source": "<h2>Data Types</h2> <a class=\"anchor\" id=\"section2\"></a>",
      "metadata": {}
    },
    {
      "cell_type": "markdown",
      "source": "<h3>Numbers</h3> <a class=\"anchor\" id=\"section2.1\"></a>",
      "metadata": {}
    },
    {
      "cell_type": "code",
      "source": "/*\nDeclaring different number types.\nnumber(5,2) --> number(scale, precision) where:\n\tscale = number of digits in number, precision = accuracy passed decimal (if applicable)\nIf number of digits is greater than precision + scale, error is returned.\n\tEx: 1234.56 number(5, 2) returns \"PL/SQL: numeric or value%s error\"\n\tEx: 1234.56 number(5, -2) returns 1200 (rounds 2 places to the left of decimal)\n*/\ndeclare\n    l_num number;\n    l_num_constant constant number := 5;\n    l_num_default number(5, 2) default\n    l_num_float number;\nbegin\n    l_num_float := 3.245;\n    dbms_output.put_lin('l_num: '||l_num);\nend;",
      "metadata": {
        "trusted": true
      },
      "execution_count": 8,
      "outputs": [
        {
          "ename": "Error",
          "evalue": "Please load a database to perform operations",
          "traceback": [
            "Error: Please load a database to perform operations"
          ],
          "output_type": "error"
        }
      ]
    },
    {
      "cell_type": "markdown",
      "source": "<h3>Inherited Types</h3> <a class=\"anchor\" id=\"section2.2\"></a>",
      "metadata": {}
    },
    {
      "cell_type": "code",
      "source": "/*\nInherited types\nBelow, l_num_vartype and l_num_coltype are inheriting the number type of l_num \nby using the %type. Output l_num_vartype = 1.12\n*/\ncreate table deparments\n( dept_id number not null primary key,\ndept_name varchar2(60));\n\n\ndeclare\n\tl_num number(5,2) not null default 2.21;\n\tl_num_vartype l_num%type := 1.123;  -- inherits data type and constant\n\tl_num_coltype departments.dept_id%type;\nbegin\n\tdbms_output.put_line(l_num);\n\tdbms_output.put_line(l_num_vartype);\n\tdbms_output.put_line(l_num_coltype);\nend;",
      "metadata": {
        "trusted": true
      },
      "execution_count": 9,
      "outputs": [
        {
          "ename": "Error",
          "evalue": "Please load a database to perform operations",
          "traceback": [
            "Error: Please load a database to perform operations"
          ],
          "output_type": "error"
        }
      ]
    },
    {
      "cell_type": "markdown",
      "source": "<h3>Timestamps</h3> <a class=\"anchor\" id=\"section2.3\"></a>",
      "metadata": {}
    },
    {
      "cell_type": "markdown",
      "source": "Timestamps have the ability to store fractional seconds with precision up to the billionth place (0.000000001).",
      "metadata": {}
    },
    {
      "cell_type": "code",
      "source": "select * from nls_instance_parameters\nwhere parameter = 'nls_date_format';",
      "metadata": {
        "trusted": true
      },
      "execution_count": 10,
      "outputs": [
        {
          "ename": "Error",
          "evalue": "Please load a database to perform operations",
          "traceback": [
            "Error: Please load a database to perform operations"
          ],
          "output_type": "error"
        }
      ]
    },
    {
      "cell_type": "code",
      "source": "l_date date := '10-nov-13';\nl_date := to_date('10-nov-2013 15:25:34', 'dd-mon'rrrr hh24:mi:ss');\nl_date := to_date('11/10/2013 15:25:34', 'mm/dd/rrrr hh24:mi:ss');",
      "metadata": {
        "trusted": true
      },
      "execution_count": 11,
      "outputs": [
        {
          "ename": "Error",
          "evalue": "Please load a database to perform operations",
          "traceback": [
            "Error: Please load a database to perform operations"
          ],
          "output_type": "error"
        }
      ]
    },
    {
      "cell_type": "markdown",
      "source": "<h3>Interval Data Types</h3> <a class=\"anchor\" id=\"section2.4\"></a>",
      "metadata": {}
    },
    {
      "cell_type": "markdown",
      "source": "Below uses the interval to calculate the difference between two times while also preserving observation for daylight savings time. The `timestamp(2) with time zone` is being used to provide the time zone of that time, ‘PST’, following that is whether or not the zone is currently in daily sight savings time (‘DST’).\n\nWe see that if November. 3rd is when daily savings time ends, the difference between November 2 and November 4 results in 2 days and 1 hour.",
      "metadata": {}
    },
    {
      "cell_type": "code",
      "source": "declare\n    l_tsmp_begin timestamp(2) with time zone :=\n        to_timestamp_tz('02-nov-2013 10:00:00.0 pst pdt', \n                        'dd-mon-rrr hh24:mi:ss.ff tzr tzd');\n    l_tsmp_end times timestamp(2) with time zone :=\n        to_timestamp_tz('02-nov-2013 10:00:00.0 pst pdt', \n                            'dd-mon-rrr hh24:mi:ss.ff tzr tzd');\n    \n    int_ym interval year(3) to month;\n    int_ds interval day(2) to second(2);\n    \nbegin\n    int_ds := l_tsmp_end - l_tsmp_begin;\n    \n    dbms_output.put_line('interval '||int_ds); --interval_day +01:00:00.00\nend;",
      "metadata": {
        "trusted": true
      },
      "execution_count": 12,
      "outputs": [
        {
          "ename": "Error",
          "evalue": "Please load a database to perform operations",
          "traceback": [
            "Error: Please load a database to perform operations"
          ],
          "output_type": "error"
        }
      ]
    },
    {
      "cell_type": "markdown",
      "source": "<h3>Booleans</h3> <a class=\"anchor\" id=\"section2.5\"></a>",
      "metadata": {}
    },
    {
      "cell_type": "markdown",
      "source": "Booleans in PL/SQL are not case-sensitive.\n\n<ul>\n    <li>True</li>\n    <li>False</li>\n    <li>Null</li>\n</ul",
      "metadata": {}
    },
    {
      "cell_type": "markdown",
      "source": "<h3>Records</h3> <a class=\"anchor\" id=\"section2.6\"></a>",
      "metadata": {}
    },
    {
      "cell_type": "markdown",
      "source": "- Group of items\n- Dot notation\n- CANNOT be defined at the database level\n\nSee below usage: `TYPE rec_name IS RECORD`",
      "metadata": {}
    },
    {
      "cell_type": "code",
      "source": "create table departments\n (dept_id number not null primary key,\n  dept_name varchar2(60));\n\ndeclare\n    type emp_rec is record ( emp_name varchar2(60),\n                             dept_id deparments.dept_id%TYPE -- inheriting type of departments\n                             loc varchar2(10) default 'CA');        \n    l_emprec emp_rec;\nbegin\n    l_emprec .emp_name := 'John';\n    l_emprec .dept_id := 10;\n    \n    dbms_output.put_line('Employee Name is '||l_emprec .emp_name);\n    dbms_output.put_line('Employee Location is '||l_emprec .loc);\nend;",
      "metadata": {
        "trusted": true
      },
      "execution_count": 16,
      "outputs": [
        {
          "ename": "Error",
          "evalue": "Please load a database to perform operations",
          "traceback": [
            "Error: Please load a database to perform operations"
          ],
          "output_type": "error"
        }
      ]
    },
    {
      "cell_type": "markdown",
      "source": "<h3>%ROWTYPE</h3> <a class=\"anchor\" id=\"section2.7\"></a>",
      "metadata": {}
    },
    {
      "cell_type": "markdown",
      "source": "- Table\n- View\n- Cursor",
      "metadata": {}
    },
    {
      "cell_type": "code",
      "source": "create table departments\n    (dept_id number not null primary key,\n     dept_name varchar2(60));",
      "metadata": {
        "trusted": true
      },
      "execution_count": 17,
      "outputs": [
        {
          "ename": "Error",
          "evalue": "Please load a database to perform operations",
          "traceback": [
            "Error: Please load a database to perform operations"
          ],
          "output_type": "error"
        }
      ]
    },
    {
      "cell_type": "code",
      "source": "declare\n    l_dept_rec departments%ROWTYPE;\nbegin\n    l_dept_rec.dept_id := 10;\n    dbms_output.put_line('Department ID is '||l_dept_rec.dept_id);\nend;",
      "metadata": {
        "trusted": true
      },
      "execution_count": 18,
      "outputs": [
        {
          "ename": "Error",
          "evalue": "Please load a database to perform operations",
          "traceback": [
            "Error: Please load a database to perform operations"
          ],
          "output_type": "error"
        }
      ]
    },
    {
      "cell_type": "markdown",
      "source": "<h2>Loops</h2> <a class=\"anchor\" id=\"section3\"></a>",
      "metadata": {}
    },
    {
      "cell_type": "markdown",
      "source": "<h3>For Loop</h3> <a class=\"anchor\" id=\"section3.1\"></a>",
      "metadata": {}
    },
    {
      "cell_type": "markdown",
      "source": "Below shows how for loops are implemented in PL/SQL. It also shows how steps can be used to count every 2, 3, … , n numbers. \n\nThe `l_step := l_counter * 2` line is the step control. Multiplying each value in 1..3 loop by 2, gives a return of 2, 4, 6.",
      "metadata": {}
    },
    {
      "cell_type": "code",
      "source": "declare\n    step_counter number;\nbegin\n    for counter in 1..3 loop\n        step_counter := counter * 2;\n        dbms_output.put_line(step_counter)\n    end loop;\nend;",
      "metadata": {
        "trusted": true
      },
      "execution_count": 20,
      "outputs": [
        {
          "ename": "Error",
          "evalue": "Please load a database to perform operations",
          "traceback": [
            "Error: Please load a database to perform operations"
          ],
          "output_type": "error"
        }
      ]
    },
    {
      "cell_type": "markdown",
      "source": "<h3>Loop Labels</h3> <a class=\"anchor\" id=\"section3.2\"></a>",
      "metadata": {}
    },
    {
      "cell_type": "code",
      "source": "begin\n    <<outer>>\n    for outer_counter in 1..3 loop\n        dbms_output.put_line('outer_counter: '||outer_counter);\n        <<inner>>\n        for inner_counter in 1..5 loop\n            exit outer when inner_counter = 3;\n            dbms_output.put_line('inner counter: '||inner_counter);\n        end loop inner;\n    end loop outer;\nend;",
      "metadata": {
        "trusted": true
      },
      "execution_count": 21,
      "outputs": [
        {
          "ename": "Error",
          "evalue": "Please load a database to perform operations",
          "traceback": [
            "Error: Please load a database to perform operations"
          ],
          "output_type": "error"
        }
      ]
    },
    {
      "cell_type": "markdown",
      "source": "<h3>Nested Loops</h3> <a class=\"anchor\" id=\"section3.3\"></a>",
      "metadata": {}
    },
    {
      "cell_type": "markdown",
      "source": "Below shows the usage of a nested loop. There is an outer loop, and nested inside of that, an inner loop.",
      "metadata": {}
    },
    {
      "cell_type": "code",
      "source": "begin\n    <<outer>>\n    for outer_counter in 1..3 loop\n        dbms_output.put_line('outer_counter: '||outer_counter);\n        <<inner>>\n        for inner_counter in 1..5 loop\n            exit outer when inner_counter = 3;\n            dbms_output.put_line('inner counter: '||inner_counter);\n        end loop inner;\n    end loop outer;\nend;",
      "metadata": {
        "trusted": true
      },
      "execution_count": 24,
      "outputs": [
        {
          "ename": "Error",
          "evalue": "Please load a database to perform operations",
          "traceback": [
            "Error: Please load a database to perform operations"
          ],
          "output_type": "error"
        }
      ]
    },
    {
      "cell_type": "markdown",
      "source": "<h4>Continue when</h4> <a class=\"anchor\" id=\"section3.3.1\"></a>",
      "metadata": {}
    },
    {
      "cell_type": "markdown",
      "source": "Below shows how an inner loop is terminated when a condition is satisfied. In this case, the CONTINUE outer WHEN is given a condition that l_inner_counter must equal 2 to break the inner loop and continue to the outer loop and continue the outer iteration. This effectively only prints the value of 1 inside of the inner loop.\n\nGiving an output of: 1, 1, 2, 1, 3, 1",
      "metadata": {}
    },
    {
      "cell_type": "code",
      "source": "begin\n    <<outer>>\n    for outer_counter in 1..3 loop\n        dbms_output.put_line('outer counter: '||outer_counter);\n        <<inner>>\n            for inner_counter in 1..3 loop\n                continue outer when inner_counter = 2;\n                dbms_output.put_line('inner_counter: '||inner_counter);\n            end loop inner;\n        dbms_output.put_line('outer counter at end: '||outer_counter);\n    end loop outer;\nend;",
      "metadata": {
        "trusted": true
      },
      "execution_count": 29,
      "outputs": [
        {
          "ename": "Error",
          "evalue": "Please load a database to perform operations",
          "traceback": [
            "Error: Please load a database to perform operations"
          ],
          "output_type": "error"
        }
      ]
    },
    {
      "cell_type": "markdown",
      "source": "<h3>While Loops</h3> <a class=\"anchor\" id=\"section3.4\"></a>",
      "metadata": {}
    },
    {
      "cell_type": "markdown",
      "source": "<h4>Random Values</h4> <a class=\"anchor\" id=\"section3.4.1\"></a>",
      "metadata": {}
    },
    {
      "cell_type": "markdown",
      "source": "Below shows the usage of a while loop and `dmbs_random.value(1, 10)` to generate a random number between 1 and 10.",
      "metadata": {}
    },
    {
      "cell_type": "code",
      "source": "declare\n    check int := 1;\nbegin\n    while check < 5 loop\n        check := dbms_random.value(1, 10);\n        dbms_output.put_line(check);\n    end loop;\nend;",
      "metadata": {
        "trusted": true
      },
      "execution_count": 30,
      "outputs": [
        {
          "ename": "Error",
          "evalue": "Please load a database to perform operations",
          "traceback": [
            "Error: Please load a database to perform operations"
          ],
          "output_type": "error"
        }
      ]
    },
    {
      "cell_type": "markdown",
      "source": "<h2>Conditional Exectuion</h2> <a class=\"anchor\" id=\"section4\"></a>",
      "metadata": {}
    },
    {
      "cell_type": "markdown",
      "source": "When a condition is met, a task is executed. \n\n**Note:** It is important to put the most probable conditions first in order to increase efficiency and to likely not demand exhaustion of all conditional statements.",
      "metadata": {}
    },
    {
      "cell_type": "markdown",
      "source": "<h3>If, Elsif, and Else Statements</h3><a class=\"anchor\" id=\"section4.1\"></a>\n<p>If statements can be nested in PL/SQL like most other programming languages.</p>",
      "metadata": {}
    },
    {
      "cell_type": "markdown",
      "source": "If statements are formatted as `if <condition> then`",
      "metadata": {}
    },
    {
      "cell_type": "code",
      "source": "declare\n    check int := 1;\nbegin\n    if check = 1 then\n        dbms_output.put_line(check);\n    end if;\nend;",
      "metadata": {
        "trusted": true
      },
      "execution_count": 5,
      "outputs": [
        {
          "ename": "Error",
          "evalue": "Please load a database to perform operations",
          "traceback": [
            "Error: Please load a database to perform operations"
          ],
          "output_type": "error"
        }
      ]
    },
    {
      "cell_type": "markdown",
      "source": "Usage of `OR`",
      "metadata": {}
    },
    {
      "cell_type": "code",
      "source": "declare\n    sales_amt number := 40000;\n    no_of_orders number := 120;\n    commission number;\nbegin\n    if (sales_amt > 50000 and no_of_orders > 50)\n        or -- OR statment allowing for multiple sufficient conditions\n        (sales_amt < 50000 and no_of_ordrs > 100) then\n        \n        commission := 10\n        dbms_output.put_line(commission);\n    end if;\nend;",
      "metadata": {
        "trusted": true
      },
      "execution_count": 6,
      "outputs": [
        {
          "ename": "Error",
          "evalue": "Please load a database to perform operations",
          "traceback": [
            "Error: Please load a database to perform operations"
          ],
          "output_type": "error"
        }
      ]
    },
    {
      "cell_type": "markdown",
      "source": "Usage of `ELSE`",
      "metadata": {}
    },
    {
      "cell_type": "code",
      "source": "declare\n    sales_amt number := 40000;\n    no_of_orders number := 120;\n    commission number;\nbegin\n    if (sales_amt > 50000 and no_of_orders > 50)\n        or -- OR statment allowing for multiple sufficient conditions\n        (sales_amt < 50000 and no_of_ordrs > 100) then\n        \n        commission := 10\n        dbms_output.put_line(commission);\n    else\n        commission := 5;\n        dbms_output.put_line(commission);\n    end if;\nend;",
      "metadata": {
        "trusted": true
      },
      "execution_count": 7,
      "outputs": [
        {
          "ename": "Error",
          "evalue": "Please load a database to perform operations",
          "traceback": [
            "Error: Please load a database to perform operations"
          ],
          "output_type": "error"
        }
      ]
    },
    {
      "cell_type": "markdown",
      "source": "Utilizing null evaluation. `NVL(variable, value)` evaluates a variable to see if it is null. If null, the variable is assigned the defined value. ",
      "metadata": {}
    },
    {
      "cell_type": "code",
      "source": "declare\n    sales_amt number := 40000;\n    no_of_orders number := 120;\n    commission number;\nbegin\n    if (nvl(sales_amt,0) > 50000 and no_of_orders > 50)\n        or -- OR statment allowing for multiple sufficient conditions\n        (nvl(sales_amt,0) < 50000 and no_of_ordrs > 100) then\n        \n        commission := 10\n        dbms_output.put_line(commission);\n    else\n        commission := 5;\n        dbms_output.put_line(commission);\n    end if;\nend;",
      "metadata": {
        "trusted": true
      },
      "execution_count": 8,
      "outputs": [
        {
          "ename": "Error",
          "evalue": "Please load a database to perform operations",
          "traceback": [
            "Error: Please load a database to perform operations"
          ],
          "output_type": "error"
        }
      ]
    },
    {
      "cell_type": "markdown",
      "source": "Usage of `ELSIF`<br>\n**Note:** else statements are not required to follow elsif.",
      "metadata": {}
    },
    {
      "cell_type": "code",
      "source": "declare\n    sales_amt number := 40000;\n    no_of_orders number := 120;\n    commission number;\nbegin\n    if (nvl(sales_amt,0) > 50000 and no_of_orders > 50) then\n        commission := 10\n        dbms_output.put_line(commission);\n    elsif (nvl(sales_amt,0) < 50000 and no_of_orders > 100) then\n        commission := 5;\n        dbms_output.put_line(commission);\n    else\n        commission := 0;\n        dbms_output.put_line(commission);\n    end if;\nend;",
      "metadata": {
        "trusted": true
      },
      "execution_count": 9,
      "outputs": [
        {
          "ename": "Error",
          "evalue": "Please load a database to perform operations",
          "traceback": [
            "Error: Please load a database to perform operations"
          ],
          "output_type": "error"
        }
      ]
    },
    {
      "cell_type": "markdown",
      "source": "<h3>When Statements</h3><a class=\"anchor\" id=\"section4.2\"></a>",
      "metadata": {}
    },
    {
      "cell_type": "markdown",
      "source": "It is considered better practice to utilize Case/When statements instead of If/Then as it improves readability.",
      "metadata": {}
    },
    {
      "cell_type": "code",
      "source": "declare\n    ticket_priority varchar2(8) := 'medium';\n    support_tier number;\nbegin\n    case ticket_priority\n        when 'high' then\n            support_tier := 1;\n        when 'medium' then\n            support_tier := 2;\n        when 'low' then\n            support_tier := 3;\n        else\n            support_tier := 0;\n    end case;\n    dbms_output.put_line(ticket_priority||': '||support_tier);\nend;",
      "metadata": {
        "trusted": true
      },
      "execution_count": 12,
      "outputs": [
        {
          "ename": "Error",
          "evalue": "Please load a database to perform operations",
          "traceback": [
            "Error: Please load a database to perform operations"
          ],
          "output_type": "error"
        }
      ]
    },
    {
      "cell_type": "markdown",
      "source": "<h3>Simple Case Expression</h3><a class=\"anchor\" id=\"section4.3\"></a>",
      "metadata": {}
    },
    {
      "cell_type": "markdown",
      "source": "Below shows how to assign a value to a variable based on condition statements.<br><br>\n**Note:** the return value assigned to the variable must match the assignment type under the declare statement. So below, support_tier number, must be assigned a number value.",
      "metadata": {}
    },
    {
      "cell_type": "code",
      "source": "declare\n    ticket_priority varchar2(8) := 'medium';\n    support_tier number;\nbegin\n    support_tier :=\n        case ticket_priority\n            when 'high' then 1\n            when 'medium' then 2\n            when 'low' then 3\n            else 0\n        end;\n    dbms_output.put_line(support_tier)\nend;",
      "metadata": {
        "trusted": true
      },
      "execution_count": 15,
      "outputs": [
        {
          "ename": "Error",
          "evalue": "Please load a database to perform operations",
          "traceback": [
            "Error: Please load a database to perform operations"
          ],
          "output_type": "error"
        }
      ]
    },
    {
      "cell_type": "markdown",
      "source": "<h2>Cursors</h2><a class=\"anchor\" id=\"section5\"></a>",
      "metadata": {}
    },
    {
      "cell_type": "markdown",
      "source": "Lifecycle of a cursor:\n- Open state:\n    1. Area memory is assigned\n    2. SQL statement parsed and binded\n    3. Statement executed\n    4. Pointer moved to the first row\n- Fetch state:\n    5. row fetched\n- Close phase:\n    6. memory released",
      "metadata": {}
    },
    {
      "cell_type": "code",
      "source": "create table departments\n(dept_id number not null primary key,\n dept_name varchar2(60));",
      "metadata": {
        "trusted": true
      },
      "execution_count": 20,
      "outputs": [
        {
          "ename": "Error",
          "evalue": "Please load a database to perform operations",
          "traceback": [
            "Error: Please load a database to perform operations"
          ],
          "output_type": "error"
        }
      ]
    },
    {
      "cell_type": "markdown",
      "source": "Below creates a constraint using <variable_name>_fk to annotate it as a foreign key",
      "metadata": {}
    },
    {
      "cell_type": "code",
      "source": "create table employee\n(emp_id number not null primary key,\n emp_name varchar2(60),\n emp_dept_id number,\n emp_loc varchar2(60),\n emp_sal number,\n constraint emp_dept_fk foreign key(emp_dept_id)\n references departments(dept_id));",
      "metadata": {
        "trusted": true
      },
      "execution_count": 21,
      "outputs": [
        {
          "ename": "Error",
          "evalue": "Please load a database to perform operations",
          "traceback": [
            "Error: Please load a database to perform operations"
          ],
          "output_type": "error"
        }
      ]
    },
    {
      "cell_type": "markdown",
      "source": "<h3>Implicit Cursors</h3><a class=\"anchor\" id=\"section5.1\"></a>",
      "metadata": {}
    },
    {
      "cell_type": "markdown",
      "source": "Implicit cursors are automatically created. <br>\n\nAttributes:\n- `sql%found` --> true if a row is affected\n- `sql%notfound` --> true if no rows are affected\n- `sql%rowcount` --> number of rows affected",
      "metadata": {}
    },
    {
      "cell_type": "code",
      "source": "declare\n    l_dept_id departments.dept_id%type;\n    l_dept_name departments.dept_name%type;\nbegin\n    select dept_id, dept_name\n        into l_dept_id, l_dept_name\n    from departments\n    where dept_id = 1;\n    if sql%found then\n        dbms_output.put_line(sql%rowcount);\n    end if;\nend;",
      "metadata": {
        "trusted": true
      },
      "execution_count": 25,
      "outputs": [
        {
          "ename": "Error",
          "evalue": "Please load a database to perform operations",
          "traceback": [
            "Error: Please load a database to perform operations"
          ],
          "output_type": "error"
        }
      ]
    },
    {
      "cell_type": "markdown",
      "source": "<h3>Explicit Cursors</h3><a class=\"anchor\" id=\"section5.2\"></a>",
      "metadata": {}
    },
    {
      "cell_type": "markdown",
      "source": "Explicit cursors are not automatically created. <br>\n\n- should be declared in `declare` section\n- more control over the context area (memory area)",
      "metadata": {}
    },
    {
      "cell_type": "code",
      "source": "",
      "metadata": {},
      "execution_count": null,
      "outputs": []
    }
  ]
}