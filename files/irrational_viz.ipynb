{
 "cells": [
  {
   "cell_type": "markdown",
   "metadata": {},
   "source": [
    "<br><br>"
   ]
  },
  {
   "cell_type": "markdown",
   "metadata": {},
   "source": [
    "<h1 style=\"color:red\"; id=top>----------------Path Visualization of Digits in Irrational Numbers-------------------</h1><br>"
   ]
  },
  {
   "cell_type": "markdown",
   "metadata": {},
   "source": [
    "### This tool is used to visualize extended decimals of irrational numbers or other created sequences such as Pi, the Golden Ratio, and Euler's constant. Through different computations and methods of movement, abstract, fractal, and controlled visualizations can be created. \n",
    "#### How it works:\n",
    "<p>The string of the number is parsed through and each digit is treated as an angle of rotation (digit * 36 degrees). For movements needed on 45 degree intervals, custom movement sequences should be created.</p> <br>\n",
    "<p><h4>The script will prompt the user for two things: </h4><br> - A True or False value for showing the movement of the path. True shows the movement through each digit, False returns the completed path of 10,000 digits<br> - The second input chooses which number to visualize</p>"
   ]
  },
  {
   "cell_type": "markdown",
   "metadata": {},
   "source": [
    "## Table of Contents:\n",
    "<h3>1. Defining Irrational Numbers, Sequences, etc.</h3>\n",
    "<h3>2. Setting up Graphics</h3>\n",
    "<h3>3. Creating Functions for Each Number/Shape</h3>\n",
    "<h3>4. Graphic Control</h3>"
   ]
  },
  {
   "cell_type": "markdown",
   "metadata": {},
   "source": [
    "### Importing necessary libraries"
   ]
  },
  {
   "cell_type": "code",
   "execution_count": 1,
   "metadata": {},
   "outputs": [],
   "source": [
    "import math\n",
    "from numpy import mean"
   ]
  },
  {
   "cell_type": "code",
   "execution_count": 2,
   "metadata": {},
   "outputs": [],
   "source": [
    "try:\n",
    "    from sympy.mpmath import mp\n",
    "except ImportError:\n",
    "    from mpmath import mp"
   ]
  },
  {
   "cell_type": "markdown",
   "metadata": {},
   "source": [
    "<h1 id=\"first\" style=color:red>1. Defining Irrational Numbers, Sequences, etc.</h1>"
   ]
  },
  {
   "cell_type": "markdown",
   "metadata": {},
   "source": [
    "## Decimals of Pi\n",
    "The below example is a list of the first 10,000 decimals in Pi.\n",
    "See line 69 for how the Turtle Graphic is created and used."
   ]
  },
  {
   "cell_type": "code",
   "execution_count": 3,
   "metadata": {},
   "outputs": [],
   "source": [
    "mp.dps = 10000 # set number of digits\n",
    "pi = str(mp.pi)\n",
    "pi = pi.replace('.', '')\n",
    "pi = list(pi)\n",
    "pi = pi[1:]\n",
    "pi_final = []"
   ]
  },
  {
   "cell_type": "code",
   "execution_count": 4,
   "metadata": {},
   "outputs": [],
   "source": [
    "for i in range(len(pi)):\n",
    "    pi_final.append(int(pi[i]))"
   ]
  },
  {
   "cell_type": "markdown",
   "metadata": {},
   "source": [
    "# Euler's constant"
   ]
  },
  {
   "cell_type": "code",
   "execution_count": 5,
   "metadata": {},
   "outputs": [],
   "source": [
    "mp.dps = 10000\n",
    "e = ((1+(1/999999999))**999999999)\n",
    "e = str(mp.e)\n",
    "e = e.replace('.', '')\n",
    "e = list(e)\n",
    "e_final = []"
   ]
  },
  {
   "cell_type": "code",
   "execution_count": 6,
   "metadata": {},
   "outputs": [],
   "source": [
    "for i in range(len(e)):\n",
    "    e_final.append(int(e[i]))"
   ]
  },
  {
   "cell_type": "markdown",
   "metadata": {},
   "source": [
    "## The Golden Ratio (Phi)"
   ]
  },
  {
   "cell_type": "code",
   "execution_count": 7,
   "metadata": {},
   "outputs": [],
   "source": [
    "mp.dps = 10000\n",
    "phi = (1 + 5**.5)/2\n",
    "phi = str(mp.phi)\n",
    "phi = phi.replace('.', '')\n",
    "phi = list(phi)\n",
    "phi_final = []"
   ]
  },
  {
   "cell_type": "code",
   "execution_count": 8,
   "metadata": {},
   "outputs": [],
   "source": [
    "for i in range(len(phi)):\n",
    "    phi_final.append(int(phi[i]))"
   ]
  },
  {
   "cell_type": "markdown",
   "metadata": {},
   "source": [
    "## The Fibonacci Sequence"
   ]
  },
  {
   "cell_type": "code",
   "execution_count": 9,
   "metadata": {},
   "outputs": [],
   "source": [
    "previous = 1\n",
    "current = 1\n",
    "fib_seq = [1, 1]\n",
    "for i in range(10000):\n",
    "    fib_seq.append(fib_seq[i] + fib_seq[i + 1])"
   ]
  },
  {
   "cell_type": "markdown",
   "metadata": {},
   "source": [
    "## Platonic Solid: Cube"
   ]
  },
  {
   "cell_type": "code",
   "execution_count": 10,
   "metadata": {},
   "outputs": [],
   "source": [
    "drawing = [90, 90, 90, 90, 45, 45, 90, 90, 90, 90, 135, 315, 225, 225, 315, 135]\n",
    "drawing = drawing * 9999"
   ]
  },
  {
   "cell_type": "markdown",
   "metadata": {},
   "source": [
    "<h1 id=\"second\" style=\"color:red\">2. Setting up Graphics</h1>"
   ]
  },
  {
   "cell_type": "markdown",
   "metadata": {},
   "source": [
    "## Turtle Graphic"
   ]
  },
  {
   "cell_type": "code",
   "execution_count": 11,
   "metadata": {},
   "outputs": [],
   "source": [
    "import turtle\n",
    "from turtle import *"
   ]
  },
  {
   "cell_type": "code",
   "execution_count": 12,
   "metadata": {},
   "outputs": [],
   "source": [
    "def control():\n",
    "    on_off = input(\"See graph movement for each digit: T or F\\n\")\n",
    "    value = input(\"Enter pi, e, phi, or cube to be visualized:\\n\")\n",
    "    if on_off == \"T\" or on_off.lower() == 't':\n",
    "        graph = True\n",
    "    return bool(on_off), value"
   ]
  },
  {
   "cell_type": "markdown",
   "metadata": {},
   "source": [
    "#### Creating rainbow color list for easy tracking of movement"
   ]
  },
  {
   "cell_type": "code",
   "execution_count": 13,
   "metadata": {},
   "outputs": [],
   "source": [
    "colors = ['red', 'orange', 'gold', 'green', 'blue', 'dark violet']"
   ]
  },
  {
   "cell_type": "code",
   "execution_count": 14,
   "metadata": {},
   "outputs": [],
   "source": [
    "def start(graph):\n",
    "    color('black')\n",
    "    turtle.fillcolor('')\n",
    "    begin_fill()\n",
    "    turtle.speed(speed=0)\n",
    "    turtle.tracer(graph)\n",
    "    turtle.hideturtle()\n",
    "    draw = turtle.Turtle()\n",
    "    turtle.screensize(canvwidth=10000, canvheight=10000,\n",
    "                      bg=\"black\")"
   ]
  },
  {
   "cell_type": "markdown",
   "metadata": {},
   "source": [
    "<h1 style=\"color:red\"; id=third>3. Creating Functions for Each Number/Shape</h1>"
   ]
  },
  {
   "cell_type": "markdown",
   "metadata": {},
   "source": [
    "### Pi"
   ]
  },
  {
   "cell_type": "code",
   "execution_count": 15,
   "metadata": {},
   "outputs": [],
   "source": [
    "def pi():\n",
    "    color = 0\n",
    "    for i in pi_final:\n",
    "        color = color % 6\n",
    "        turtle.pencolor(colors[color])\n",
    "        turtle.pencolor('magenta')\n",
    "        forward(10)\n",
    "        left((i*36))\n",
    "        color += 1\n",
    "    turtle.pencolor('white')"
   ]
  },
  {
   "cell_type": "markdown",
   "metadata": {},
   "source": [
    "### Euler's Constant"
   ]
  },
  {
   "cell_type": "code",
   "execution_count": 16,
   "metadata": {},
   "outputs": [],
   "source": [
    "def e():\n",
    "    color = 0\n",
    "    for i in e_final:\n",
    "        color = color % 6\n",
    "        turtle.pencolor(colors[color])\n",
    "        turtle.pencolor('cyan')\n",
    "        forward(20)\n",
    "        left((i*36))\n",
    "        color += 1\n",
    "    turtle.pencolor('white')"
   ]
  },
  {
   "cell_type": "markdown",
   "metadata": {},
   "source": [
    "### Phi"
   ]
  },
  {
   "cell_type": "code",
   "execution_count": 17,
   "metadata": {},
   "outputs": [],
   "source": [
    "def phi():\n",
    "    color = 0\n",
    "    for i in phi_final:\n",
    "        color = color % 6\n",
    "        turtle.pencolor(colors[color])\n",
    "        turtle.pencolor('yellow')\n",
    "        forward(20)\n",
    "        left((i*36))\n",
    "        color += 1"
   ]
  },
  {
   "cell_type": "markdown",
   "metadata": {},
   "source": [
    "### Fibonacci's Sequence"
   ]
  },
  {
   "cell_type": "code",
   "execution_count": 18,
   "metadata": {},
   "outputs": [],
   "source": [
    "def fibonacci_sequence():\n",
    "    color = 0\n",
    "    for i in fib_seq:\n",
    "        color = color % 6\n",
    "        turtle.pencolor(colors[color])\n",
    "        forward(20)\n",
    "        left((i*36))\n",
    "        color += 1"
   ]
  },
  {
   "cell_type": "markdown",
   "metadata": {},
   "source": [
    "### Platonic Solid: Cube"
   ]
  },
  {
   "cell_type": "code",
   "execution_count": 19,
   "metadata": {},
   "outputs": [],
   "source": [
    "def cube():\n",
    "    movement = 0\n",
    "    color = 0\n",
    "    for i in drawing:\n",
    "        color = color % 6\n",
    "        turtle.pencolor(colors[color])\n",
    "        forward(100)\n",
    "        left(i)\n",
    "        color += 1\n",
    "        movement += 1\n",
    "    turtle.pencolor('white')"
   ]
  },
  {
   "cell_type": "code",
   "execution_count": 20,
   "metadata": {},
   "outputs": [],
   "source": [
    "def finish():\n",
    "    end_fill()\n",
    "    done()"
   ]
  },
  {
   "cell_type": "code",
   "execution_count": 21,
   "metadata": {},
   "outputs": [],
   "source": [
    "def main():\n",
    "    value = control()\n",
    "    start(value[0])\n",
    "    if value[1] == 'pi':\n",
    "        pi()\n",
    "    if value[1] == 'e':\n",
    "        e()\n",
    "    if value[1] == 'phi':\n",
    "        phi()\n",
    "    if value[1] == 'cube':\n",
    "        cube()\n",
    "    print('done :)')"
   ]
  },
  {
   "cell_type": "markdown",
   "metadata": {},
   "source": [
    "<h1 style=\"color:red\"; id=fourth>4. Control</h1>"
   ]
  },
  {
   "cell_type": "code",
   "execution_count": null,
   "metadata": {},
   "outputs": [],
   "source": [
    "if __name__ == \"__main__\":\n",
    "    main()"
   ]
  }
 ],
 "metadata": {
  "kernelspec": {
   "display_name": "Python 3 (ipykernel)",
   "language": "python",
   "name": "python3"
  },
  "language_info": {
   "codemirror_mode": {
    "name": "ipython",
    "version": 3
   },
   "file_extension": ".py",
   "mimetype": "text/x-python",
   "name": "python",
   "nbconvert_exporter": "python",
   "pygments_lexer": "ipython3",
   "version": "3.9.7"
  }
 },
 "nbformat": 4,
 "nbformat_minor": 2
}
